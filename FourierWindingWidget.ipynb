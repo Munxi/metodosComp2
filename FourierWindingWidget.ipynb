{
 "nbformat": 4,
 "nbformat_minor": 0,
 "metadata": {
  "colab": {
   "provenance": []
  },
  "kernelspec": {
   "name": "python3",
   "display_name": "Python 3 (ipykernel)",
   "language": "python"
  },
  "language_info": {
   "name": "python"
  },
  "widgets": {
   "application/vnd.jupyter.widget-state+json": {
    "75a0f9c888aa48beac9b5f3eebe6f27c": {
     "model_module": "@jupyter-widgets/controls",
     "model_name": "VBoxModel",
     "model_module_version": "1.5.0",
     "state": {
      "_dom_classes": [
       "widget-interact"
      ],
      "_model_module": "@jupyter-widgets/controls",
      "_model_module_version": "1.5.0",
      "_model_name": "VBoxModel",
      "_view_count": null,
      "_view_module": "@jupyter-widgets/controls",
      "_view_module_version": "1.5.0",
      "_view_name": "VBoxView",
      "box_style": "",
      "children": [
       "IPY_MODEL_d24a2f79095a4f998faadc3052e67169",
       "IPY_MODEL_5e1805340fca48969a1197137a0434d4",
       "IPY_MODEL_fdb037542f8c441f82f29e599b3ad768",
       "IPY_MODEL_9b9c18f842954bacbc5d67b8eb9b6f3e",
       "IPY_MODEL_498f48289818403684ff90ad6907906e",
       "IPY_MODEL_cf91a68e2d2c4f9b9803759bcefc0133",
       "IPY_MODEL_3dafac4f764f4cf0bb100a2c9f451db4",
       "IPY_MODEL_f12b3b1eb4f549bc93993cdab2b33687",
       "IPY_MODEL_429d21e5395f4792a7ec3b91031272cb"
      ],
      "layout": "IPY_MODEL_26b448e4369843858623766fa34886d9"
     }
    },
    "d24a2f79095a4f998faadc3052e67169": {
     "model_module": "@jupyter-widgets/controls",
     "model_name": "CheckboxModel",
     "model_module_version": "1.5.0",
     "state": {
      "_dom_classes": [],
      "_model_module": "@jupyter-widgets/controls",
      "_model_module_version": "1.5.0",
      "_model_name": "CheckboxModel",
      "_view_count": null,
      "_view_module": "@jupyter-widgets/controls",
      "_view_module_version": "1.5.0",
      "_view_name": "CheckboxView",
      "description": "winding_line",
      "description_tooltip": null,
      "disabled": false,
      "indent": true,
      "layout": "IPY_MODEL_b372279ad2c24fa082e8b61e8aaafb36",
      "style": "IPY_MODEL_6cee7230fc8a4276b31bc752a716efd8",
      "value": true
     }
    },
    "5e1805340fca48969a1197137a0434d4": {
     "model_module": "@jupyter-widgets/controls",
     "model_name": "FloatSliderModel",
     "model_module_version": "1.5.0",
     "state": {
      "_dom_classes": [],
      "_model_module": "@jupyter-widgets/controls",
      "_model_module_version": "1.5.0",
      "_model_name": "FloatSliderModel",
      "_view_count": null,
      "_view_module": "@jupyter-widgets/controls",
      "_view_module_version": "1.5.0",
      "_view_name": "FloatSliderView",
      "continuous_update": true,
      "description": "freq",
      "description_tooltip": null,
      "disabled": false,
      "layout": "IPY_MODEL_0d8e2f95b9f541e091cb9ee4615cf992",
      "max": 0.4,
      "min": 0,
      "orientation": "horizontal",
      "readout": true,
      "readout_format": ".2f",
      "step": 0.001,
      "style": "IPY_MODEL_2b70fcb3572f41e88b385c63a4d2480c",
      "value": 0.071
     }
    },
    "fdb037542f8c441f82f29e599b3ad768": {
     "model_module": "@jupyter-widgets/controls",
     "model_name": "FloatSliderModel",
     "model_module_version": "1.5.0",
     "state": {
      "_dom_classes": [],
      "_model_module": "@jupyter-widgets/controls",
      "_model_module_version": "1.5.0",
      "_model_name": "FloatSliderModel",
      "_view_count": null,
      "_view_module": "@jupyter-widgets/controls",
      "_view_module_version": "1.5.0",
      "_view_name": "FloatSliderView",
      "continuous_update": true,
      "description": "t_max",
      "description_tooltip": null,
      "disabled": false,
      "layout": "IPY_MODEL_0d8e2f95b9f541e091cb9ee4615cf992",
      "max": 100,
      "min": 1,
      "orientation": "horizontal",
      "readout": true,
      "readout_format": ".2f",
      "step": 0.5,
      "style": "IPY_MODEL_a2c70422db644cb3b7849ec75e41811b",
      "value": 60
     }
    },
    "9b9c18f842954bacbc5d67b8eb9b6f3e": {
     "model_module": "@jupyter-widgets/controls",
     "model_name": "FloatSliderModel",
     "model_module_version": "1.5.0",
     "state": {
      "_dom_classes": [],
      "_model_module": "@jupyter-widgets/controls",
      "_model_module_version": "1.5.0",
      "_model_name": "FloatSliderModel",
      "_view_count": null,
      "_view_module": "@jupyter-widgets/controls",
      "_view_module_version": "1.5.0",
      "_view_name": "FloatSliderView",
      "continuous_update": true,
      "description": "t_step",
      "description_tooltip": null,
      "disabled": false,
      "layout": "IPY_MODEL_0d8e2f95b9f541e091cb9ee4615cf992",
      "max": 2,
      "min": 0.001,
      "orientation": "horizontal",
      "readout": true,
      "readout_format": ".2f",
      "step": 0.001,
      "style": "IPY_MODEL_08db6ded22bd4db8b1516660169eb3ed",
      "value": 0.1
     }
    },
    "498f48289818403684ff90ad6907906e": {
     "model_module": "@jupyter-widgets/controls",
     "model_name": "FloatSliderModel",
     "model_module_version": "1.5.0",
     "state": {
      "_dom_classes": [],
      "_model_module": "@jupyter-widgets/controls",
      "_model_module_version": "1.5.0",
      "_model_name": "FloatSliderModel",
      "_view_count": null,
      "_view_module": "@jupyter-widgets/controls",
      "_view_module_version": "1.5.0",
      "_view_name": "FloatSliderView",
      "continuous_update": true,
      "description": "function_shape",
      "description_tooltip": null,
      "disabled": false,
      "layout": "IPY_MODEL_0d8e2f95b9f541e091cb9ee4615cf992",
      "max": 0.999,
      "min": 0.001,
      "orientation": "horizontal",
      "readout": true,
      "readout_format": ".2f",
      "step": 0.001,
      "style": "IPY_MODEL_f7b7bf9750e14119b6817b52185d1c27",
      "value": 0.98
     }
    },
    "cf91a68e2d2c4f9b9803759bcefc0133": {
     "model_module": "@jupyter-widgets/controls",
     "model_name": "FloatSliderModel",
     "model_module_version": "1.5.0",
     "state": {
      "_dom_classes": [],
      "_model_module": "@jupyter-widgets/controls",
      "_model_module_version": "1.5.0",
      "_model_name": "FloatSliderModel",
      "_view_count": null,
      "_view_module": "@jupyter-widgets/controls",
      "_view_module_version": "1.5.0",
      "_view_name": "FloatSliderView",
      "continuous_update": true,
      "description": "y_0",
      "description_tooltip": null,
      "disabled": false,
      "layout": "IPY_MODEL_0d8e2f95b9f541e091cb9ee4615cf992",
      "max": 2,
      "min": 0,
      "orientation": "horizontal",
      "readout": true,
      "readout_format": ".2f",
      "step": 0.1,
      "style": "IPY_MODEL_d87eca3d5ba843ccb6dce5e35cb679da",
      "value": 1.2
     }
    },
    "3dafac4f764f4cf0bb100a2c9f451db4": {
     "model_module": "@jupyter-widgets/controls",
     "model_name": "FloatSliderModel",
     "model_module_version": "1.5.0",
     "state": {
      "_dom_classes": [],
      "_model_module": "@jupyter-widgets/controls",
      "_model_module_version": "1.5.0",
      "_model_name": "FloatSliderModel",
      "_view_count": null,
      "_view_module": "@jupyter-widgets/controls",
      "_view_module_version": "1.5.0",
      "_view_name": "FloatSliderView",
      "continuous_update": true,
      "description": "f_max",
      "description_tooltip": null,
      "disabled": false,
      "layout": "IPY_MODEL_0d8e2f95b9f541e091cb9ee4615cf992",
      "max": 10,
      "min": 0.1,
      "orientation": "horizontal",
      "readout": true,
      "readout_format": ".2f",
      "step": 0.1,
      "style": "IPY_MODEL_a6164551947441c68a3f4fa925ac2c58",
      "value": 0.4
     }
    },
    "f12b3b1eb4f549bc93993cdab2b33687": {
     "model_module": "@jupyter-widgets/controls",
     "model_name": "FloatSliderModel",
     "model_module_version": "1.5.0",
     "state": {
      "_dom_classes": [],
      "_model_module": "@jupyter-widgets/controls",
      "_model_module_version": "1.5.0",
      "_model_name": "FloatSliderModel",
      "_view_count": null,
      "_view_module": "@jupyter-widgets/controls",
      "_view_module_version": "1.5.0",
      "_view_name": "FloatSliderView",
      "continuous_update": true,
      "description": "f_step",
      "description_tooltip": null,
      "disabled": false,
      "layout": "IPY_MODEL_0d8e2f95b9f541e091cb9ee4615cf992",
      "max": 0.1,
      "min": 2.0E-4,
      "orientation": "horizontal",
      "readout": true,
      "readout_format": ".2f",
      "step": 0.002,
      "style": "IPY_MODEL_6c5dde382aa64cfe8206ce099f232624",
      "value": 0.001
     }
    },
    "429d21e5395f4792a7ec3b91031272cb": {
     "model_module": "@jupyter-widgets/output",
     "model_name": "OutputModel",
     "model_module_version": "1.0.0",
     "state": {
      "_dom_classes": [],
      "_model_module": "@jupyter-widgets/output",
      "_model_module_version": "1.0.0",
      "_model_name": "OutputModel",
      "_view_count": null,
      "_view_module": "@jupyter-widgets/output",
      "_view_module_version": "1.0.0",
      "_view_name": "OutputView",
      "layout": "IPY_MODEL_bbc8d829594340ecad018d83bc36686e",
      "msg_id": "",
      "outputs": [
       {
        "output_type": "display_data",
        "data": {
         "text/plain": "<Figure size 1200x400 with 3 Axes>",
         "image/png": "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\n"
        },
        "metadata": {}
       }
      ]
     }
    },
    "26b448e4369843858623766fa34886d9": {
     "model_module": "@jupyter-widgets/base",
     "model_name": "LayoutModel",
     "model_module_version": "1.2.0",
     "state": {
      "_model_module": "@jupyter-widgets/base",
      "_model_module_version": "1.2.0",
      "_model_name": "LayoutModel",
      "_view_count": null,
      "_view_module": "@jupyter-widgets/base",
      "_view_module_version": "1.2.0",
      "_view_name": "LayoutView",
      "align_content": null,
      "align_items": null,
      "align_self": null,
      "border": null,
      "bottom": null,
      "display": null,
      "flex": null,
      "flex_flow": null,
      "grid_area": null,
      "grid_auto_columns": null,
      "grid_auto_flow": null,
      "grid_auto_rows": null,
      "grid_column": null,
      "grid_gap": null,
      "grid_row": null,
      "grid_template_areas": null,
      "grid_template_columns": null,
      "grid_template_rows": null,
      "height": null,
      "justify_content": null,
      "justify_items": null,
      "left": null,
      "margin": null,
      "max_height": null,
      "max_width": null,
      "min_height": null,
      "min_width": null,
      "object_fit": null,
      "object_position": null,
      "order": null,
      "overflow": null,
      "overflow_x": null,
      "overflow_y": null,
      "padding": null,
      "right": null,
      "top": null,
      "visibility": null,
      "width": null
     }
    },
    "b372279ad2c24fa082e8b61e8aaafb36": {
     "model_module": "@jupyter-widgets/base",
     "model_name": "LayoutModel",
     "model_module_version": "1.2.0",
     "state": {
      "_model_module": "@jupyter-widgets/base",
      "_model_module_version": "1.2.0",
      "_model_name": "LayoutModel",
      "_view_count": null,
      "_view_module": "@jupyter-widgets/base",
      "_view_module_version": "1.2.0",
      "_view_name": "LayoutView",
      "align_content": null,
      "align_items": null,
      "align_self": null,
      "border": null,
      "bottom": null,
      "display": null,
      "flex": null,
      "flex_flow": null,
      "grid_area": null,
      "grid_auto_columns": null,
      "grid_auto_flow": null,
      "grid_auto_rows": null,
      "grid_column": null,
      "grid_gap": null,
      "grid_row": null,
      "grid_template_areas": null,
      "grid_template_columns": null,
      "grid_template_rows": null,
      "height": null,
      "justify_content": null,
      "justify_items": null,
      "left": null,
      "margin": null,
      "max_height": null,
      "max_width": null,
      "min_height": null,
      "min_width": null,
      "object_fit": null,
      "object_position": null,
      "order": null,
      "overflow": null,
      "overflow_x": null,
      "overflow_y": null,
      "padding": null,
      "right": null,
      "top": null,
      "visibility": null,
      "width": null
     }
    },
    "6cee7230fc8a4276b31bc752a716efd8": {
     "model_module": "@jupyter-widgets/controls",
     "model_name": "DescriptionStyleModel",
     "model_module_version": "1.5.0",
     "state": {
      "_model_module": "@jupyter-widgets/controls",
      "_model_module_version": "1.5.0",
      "_model_name": "DescriptionStyleModel",
      "_view_count": null,
      "_view_module": "@jupyter-widgets/base",
      "_view_module_version": "1.2.0",
      "_view_name": "StyleView",
      "description_width": ""
     }
    },
    "0d8e2f95b9f541e091cb9ee4615cf992": {
     "model_module": "@jupyter-widgets/base",
     "model_name": "LayoutModel",
     "model_module_version": "1.2.0",
     "state": {
      "_model_module": "@jupyter-widgets/base",
      "_model_module_version": "1.2.0",
      "_model_name": "LayoutModel",
      "_view_count": null,
      "_view_module": "@jupyter-widgets/base",
      "_view_module_version": "1.2.0",
      "_view_name": "LayoutView",
      "align_content": null,
      "align_items": null,
      "align_self": null,
      "border": null,
      "bottom": null,
      "display": null,
      "flex": null,
      "flex_flow": null,
      "grid_area": null,
      "grid_auto_columns": null,
      "grid_auto_flow": null,
      "grid_auto_rows": null,
      "grid_column": null,
      "grid_gap": null,
      "grid_row": null,
      "grid_template_areas": null,
      "grid_template_columns": null,
      "grid_template_rows": null,
      "height": null,
      "justify_content": null,
      "justify_items": null,
      "left": null,
      "margin": null,
      "max_height": null,
      "max_width": null,
      "min_height": null,
      "min_width": null,
      "object_fit": null,
      "object_position": null,
      "order": null,
      "overflow": null,
      "overflow_x": null,
      "overflow_y": null,
      "padding": null,
      "right": null,
      "top": null,
      "visibility": null,
      "width": "1200px"
     }
    },
    "2b70fcb3572f41e88b385c63a4d2480c": {
     "model_module": "@jupyter-widgets/controls",
     "model_name": "SliderStyleModel",
     "model_module_version": "1.5.0",
     "state": {
      "_model_module": "@jupyter-widgets/controls",
      "_model_module_version": "1.5.0",
      "_model_name": "SliderStyleModel",
      "_view_count": null,
      "_view_module": "@jupyter-widgets/base",
      "_view_module_version": "1.2.0",
      "_view_name": "StyleView",
      "description_width": "",
      "handle_color": null
     }
    },
    "a2c70422db644cb3b7849ec75e41811b": {
     "model_module": "@jupyter-widgets/controls",
     "model_name": "SliderStyleModel",
     "model_module_version": "1.5.0",
     "state": {
      "_model_module": "@jupyter-widgets/controls",
      "_model_module_version": "1.5.0",
      "_model_name": "SliderStyleModel",
      "_view_count": null,
      "_view_module": "@jupyter-widgets/base",
      "_view_module_version": "1.2.0",
      "_view_name": "StyleView",
      "description_width": "",
      "handle_color": null
     }
    },
    "08db6ded22bd4db8b1516660169eb3ed": {
     "model_module": "@jupyter-widgets/controls",
     "model_name": "SliderStyleModel",
     "model_module_version": "1.5.0",
     "state": {
      "_model_module": "@jupyter-widgets/controls",
      "_model_module_version": "1.5.0",
      "_model_name": "SliderStyleModel",
      "_view_count": null,
      "_view_module": "@jupyter-widgets/base",
      "_view_module_version": "1.2.0",
      "_view_name": "StyleView",
      "description_width": "",
      "handle_color": null
     }
    },
    "f7b7bf9750e14119b6817b52185d1c27": {
     "model_module": "@jupyter-widgets/controls",
     "model_name": "SliderStyleModel",
     "model_module_version": "1.5.0",
     "state": {
      "_model_module": "@jupyter-widgets/controls",
      "_model_module_version": "1.5.0",
      "_model_name": "SliderStyleModel",
      "_view_count": null,
      "_view_module": "@jupyter-widgets/base",
      "_view_module_version": "1.2.0",
      "_view_name": "StyleView",
      "description_width": "",
      "handle_color": null
     }
    },
    "d87eca3d5ba843ccb6dce5e35cb679da": {
     "model_module": "@jupyter-widgets/controls",
     "model_name": "SliderStyleModel",
     "model_module_version": "1.5.0",
     "state": {
      "_model_module": "@jupyter-widgets/controls",
      "_model_module_version": "1.5.0",
      "_model_name": "SliderStyleModel",
      "_view_count": null,
      "_view_module": "@jupyter-widgets/base",
      "_view_module_version": "1.2.0",
      "_view_name": "StyleView",
      "description_width": "",
      "handle_color": null
     }
    },
    "a6164551947441c68a3f4fa925ac2c58": {
     "model_module": "@jupyter-widgets/controls",
     "model_name": "SliderStyleModel",
     "model_module_version": "1.5.0",
     "state": {
      "_model_module": "@jupyter-widgets/controls",
      "_model_module_version": "1.5.0",
      "_model_name": "SliderStyleModel",
      "_view_count": null,
      "_view_module": "@jupyter-widgets/base",
      "_view_module_version": "1.2.0",
      "_view_name": "StyleView",
      "description_width": "",
      "handle_color": null
     }
    },
    "6c5dde382aa64cfe8206ce099f232624": {
     "model_module": "@jupyter-widgets/controls",
     "model_name": "SliderStyleModel",
     "model_module_version": "1.5.0",
     "state": {
      "_model_module": "@jupyter-widgets/controls",
      "_model_module_version": "1.5.0",
      "_model_name": "SliderStyleModel",
      "_view_count": null,
      "_view_module": "@jupyter-widgets/base",
      "_view_module_version": "1.2.0",
      "_view_name": "StyleView",
      "description_width": "",
      "handle_color": null
     }
    },
    "bbc8d829594340ecad018d83bc36686e": {
     "model_module": "@jupyter-widgets/base",
     "model_name": "LayoutModel",
     "model_module_version": "1.2.0",
     "state": {
      "_model_module": "@jupyter-widgets/base",
      "_model_module_version": "1.2.0",
      "_model_name": "LayoutModel",
      "_view_count": null,
      "_view_module": "@jupyter-widgets/base",
      "_view_module_version": "1.2.0",
      "_view_name": "LayoutView",
      "align_content": null,
      "align_items": null,
      "align_self": null,
      "border": null,
      "bottom": null,
      "display": null,
      "flex": null,
      "flex_flow": null,
      "grid_area": null,
      "grid_auto_columns": null,
      "grid_auto_flow": null,
      "grid_auto_rows": null,
      "grid_column": null,
      "grid_gap": null,
      "grid_row": null,
      "grid_template_areas": null,
      "grid_template_columns": null,
      "grid_template_rows": null,
      "height": null,
      "justify_content": null,
      "justify_items": null,
      "left": null,
      "margin": null,
      "max_height": null,
      "max_width": null,
      "min_height": null,
      "min_width": null,
      "object_fit": null,
      "object_position": null,
      "order": null,
      "overflow": null,
      "overflow_x": null,
      "overflow_y": null,
      "padding": null,
      "right": null,
      "top": null,
      "visibility": null,
      "width": null
     }
    }
   }
  }
 },
 "cells": [
  {
   "cell_type": "markdown",
   "source": [
    "# Fourier Winding Widget\n",
    "\n",
    "> Por Santiago Henao Castellanos para el curso Métodos Computacionales 2"
   ],
   "metadata": {
    "id": "NPgRk_0aMWg-"
   }
  },
  {
   "metadata": {
    "id": "h66GnxXV37Ty",
    "ExecuteTime": {
     "end_time": "2025-02-08T14:42:31.195750Z",
     "start_time": "2025-02-08T14:42:31.174832Z"
    }
   },
   "cell_type": "code",
   "source": [
    "import ipywidgets as widgets\n",
    "from numba import njit\n",
    "import numpy as np\n",
    "import matplotlib.pyplot as plt\n",
    "from scipy.special import ellipj, ellipk\n",
    "\n",
    "@njit(\"f8[:](f8[:],f8[:],f8,f8,f8)\",cache=True,fastmath=True)\n",
    "def NUDFT_grid(t_arg,m_arg,f_ini,f_end,df):\n",
    "    \"\"\"Non-Uniform Discrete Fourier Transform on an evenly-spaced frequency grid\n",
    "    with the Kurtz (1985, MNRAS 213,773) algorithm\"\"\"\n",
    "    dF = np.exp(-2j*np.pi*t_arg*df)\n",
    "    F = np.zeros_like(np.arange(f_ini,f_end,df))\n",
    "    curl = m_arg * np.exp(-2j*np.pi*t_arg*f_ini)\n",
    "    F[0] = np.abs(np.sum(curl))**2\n",
    "    for i in range(1,len(F)):\n",
    "        curl = curl*dF\n",
    "        F[i] = np.abs(np.sum(curl))**2\n",
    "    return F"
   ],
   "outputs": [],
   "execution_count": 25
  },
  {
   "cell_type": "code",
   "source": [
    "def Fourier_winding_widget(winding_line=True,freq=0.0,t_max=1.0,t_step=0.01,function_shape=0.98,y_0=0.,f_max=1.,f_step=0.001):\n",
    "    axd = plt.figure(layout=\"constrained\",figsize=(12,4)).subplot_mosaic(\"ABB\\nACC\",width_ratios=[2,1,4])\n",
    "    ts = np.arange(0,t_max,t_step)\n",
    "    ys, *_  = ellipj(ts,function_shape)\n",
    "    ys += y_0\n",
    "    f_spec = (0,f_max,f_step)\n",
    "    fs = np.arange(*f_spec)\n",
    "    Fs = NUDFT_grid(ts,ys,*f_spec)\n",
    "    Z = ys * np.exp(-2j*np.pi*ts*freq)\n",
    "\n",
    "    axd[\"A\"].plot(Z.real,Z.imag,\".\"+(\"-\" if winding_line else \" \")+\"k\",alpha=0.4)\n",
    "    axd[\"A\"].scatter(Z.mean().real,Z.mean().imag,c='r',s=200,zorder=10,alpha=0.4)\n",
    "    axd[\"A\"].grid(True)\n",
    "    axd[\"A\"].set_xlim(-2.5,2.5)\n",
    "    axd[\"A\"].set_ylim(-2.5,2.5)\n",
    "    axd[\"A\"].set_xlabel(\"Re(Z)\")\n",
    "    axd[\"A\"].set_ylabel(\"Im(Z)\")\n",
    "    axd[\"A\"].set_title(r'$ Z(f,t) = y(t) \\exp\\left(-2\\pi i t f\\right)$')\n",
    "    axd[\"B\"].plot(ts,ys,\".-k\")\n",
    "    axd[\"B\"].margins(x=0)\n",
    "    axd[\"B\"].set_xlabel(\"Time $t$\")\n",
    "    axd[\"B\"].set_ylabel(\"Intenstiy $y(t)$\")\n",
    "    for t_cut in np.arange(0,t_max,1/freq):\n",
    "        axd[\"B\"].axvline(t_cut,c='r',ls=\"--\",alpha=0.6)\n",
    "    axd[\"C\"].plot(fs,np.sqrt(Fs)/len(ts),c='k')\n",
    "    #axd[\"C\"].set_yscale(\"log\")\n",
    "    axd[\"C\"].margins(x=0)\n",
    "    axd[\"C\"].axvline(freq,c='r',label=\"Current winding frequency\")\n",
    "    axd[\"C\"].set_xlabel(\"Frequency $f$\")\n",
    "    axd[\"C\"].set_ylabel(r\" $\\left| \\frac{1}{N} \\sum_{k=0}^{N-1} Z(f,t_k) \\right|$\")\n",
    "    axd[\"C\"].legend()\n",
    "\n",
    "    plt.show()\n"
   ],
   "metadata": {
    "id": "f3IfRGtp4JEW",
    "ExecuteTime": {
     "end_time": "2025-02-08T14:42:36.596414Z",
     "start_time": "2025-02-08T14:42:36.587151Z"
    }
   },
   "outputs": [],
   "execution_count": 28
  },
  {
   "cell_type": "code",
   "source": [
    "width=\"1200px\"\n",
    "layout = widgets.Layout(width=width)\n",
    "widgets.interact(Fourier_winding_widget,\n",
    "    winding_line=True,\n",
    "    freq=widgets.FloatSlider(           value=0.075,    min=0,      max=0.4,    step=0.001,layout=layout),\n",
    "    t_max=widgets.FloatSlider(          value=60,       min=1,      max=100,    step=0.5,layout=layout),\n",
    "    t_step=widgets.FloatSlider(         value=0.1,      min=0.001,  max=2,      step=0.001,layout=layout),\n",
    "    function_shape=widgets.FloatSlider( value=0.98,     min=0.001,  max=0.999,  step=0.001,layout=layout),\n",
    "    y_0=widgets.FloatSlider(            value=1.2,      min=0,      max=2,      step=0.1,layout=layout),\n",
    "    f_max=widgets.FloatSlider(          value=0.4,      min=0.1,    max=10,     step=0.1,layout=layout),\n",
    "    f_step=widgets.FloatSlider(         value=0.001,    min=0.0002, max=0.1,    step=0.002,layout=layout),\n",
    ");"
   ],
   "metadata": {
    "colab": {
     "base_uri": "https://localhost:8080/",
     "height": 684,
     "referenced_widgets": [
      "75a0f9c888aa48beac9b5f3eebe6f27c",
      "d24a2f79095a4f998faadc3052e67169",
      "5e1805340fca48969a1197137a0434d4",
      "fdb037542f8c441f82f29e599b3ad768",
      "9b9c18f842954bacbc5d67b8eb9b6f3e",
      "498f48289818403684ff90ad6907906e",
      "cf91a68e2d2c4f9b9803759bcefc0133",
      "3dafac4f764f4cf0bb100a2c9f451db4",
      "f12b3b1eb4f549bc93993cdab2b33687",
      "429d21e5395f4792a7ec3b91031272cb",
      "26b448e4369843858623766fa34886d9",
      "b372279ad2c24fa082e8b61e8aaafb36",
      "6cee7230fc8a4276b31bc752a716efd8",
      "0d8e2f95b9f541e091cb9ee4615cf992",
      "2b70fcb3572f41e88b385c63a4d2480c",
      "a2c70422db644cb3b7849ec75e41811b",
      "08db6ded22bd4db8b1516660169eb3ed",
      "f7b7bf9750e14119b6817b52185d1c27",
      "d87eca3d5ba843ccb6dce5e35cb679da",
      "a6164551947441c68a3f4fa925ac2c58",
      "6c5dde382aa64cfe8206ce099f232624",
      "bbc8d829594340ecad018d83bc36686e"
     ]
    },
    "id": "Y2k26rt746hQ",
    "outputId": "bc71fa30-43a8-4361-91d5-f6668b103050",
    "ExecuteTime": {
     "end_time": "2025-02-08T14:44:14.654953Z",
     "start_time": "2025-02-08T14:44:14.108241Z"
    }
   },
   "outputs": [
    {
     "data": {
      "text/plain": [
       "interactive(children=(Checkbox(value=True, description='winding_line'), FloatSlider(value=0.075, description='…"
      ],
      "application/vnd.jupyter.widget-view+json": {
       "version_major": 2,
       "version_minor": 0,
       "model_id": "1832dcb96d8445968629f0328f870ba3"
      }
     },
     "metadata": {},
     "output_type": "display_data"
    }
   ],
   "execution_count": 30
  },
  {
   "metadata": {},
   "cell_type": "code",
   "outputs": [],
   "execution_count": null,
   "source": ""
  }
 ]
}
