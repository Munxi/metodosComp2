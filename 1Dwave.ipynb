{
 "cells": [
  {
   "cell_type": "code",
   "id": "initial_id",
   "metadata": {
    "collapsed": true,
    "ExecuteTime": {
     "end_time": "2025-03-03T06:31:59.246308Z",
     "start_time": "2025-03-03T06:31:59.241769Z"
    }
   },
   "source": [
    "import numpy as np\n",
    "import matplotlib.pyplot as plt\n",
    "from numba import njit\n",
    "from matplotlib.animation import FuncAnimation"
   ],
   "outputs": [],
   "execution_count": 66
  },
  {
   "metadata": {
    "ExecuteTime": {
     "end_time": "2025-03-03T06:31:59.296450Z",
     "start_time": "2025-03-03T06:31:59.290961Z"
    }
   },
   "cell_type": "code",
   "source": [
    "dx = 2e-2\n",
    "dt = 1e-2\n",
    "C =  dt/dx\n",
    "t_anim =10\n",
    "x = np.arange(0,2+dx,dx)\n",
    "t = np.arange(0,t_anim+dt,dt)\n",
    "u = np.zeros((int(t_anim/dt)+2,int(2/dx)+1))"
   ],
   "id": "fd1df7acd9b27e2f",
   "outputs": [],
   "execution_count": 67
  },
  {
   "metadata": {
    "ExecuteTime": {
     "end_time": "2025-03-03T06:31:59.356713Z",
     "start_time": "2025-03-03T06:31:59.351674Z"
    }
   },
   "cell_type": "code",
   "source": [
    "for i in range(len(u[0])):\n",
    "    u[0:2,i] = np.exp(-125*(i*dx-1/2)**2)"
   ],
   "id": "beb89be8a47e4c33",
   "outputs": [],
   "execution_count": 68
  },
  {
   "metadata": {
    "ExecuteTime": {
     "end_time": "2025-03-03T06:31:59.522349Z",
     "start_time": "2025-03-03T06:31:59.396674Z"
    }
   },
   "cell_type": "code",
   "source": [
    "@njit(\"f8[:,:](f8[:,:],f8)\")\n",
    "def dirichlet(u_dir,C):\n",
    "    ver = len(u_dir[0])\n",
    "    hor = len(u_dir[:,0])\n",
    "    for n in range(2,hor):\n",
    "        for j in range(1,ver-1):\n",
    "            u_dir[n,j] =  2*u_dir[n-1,j]-u_dir[n-2,j] + (u_dir[n-1,j+1]-2*u_dir[n-1,j]+u_dir[n-1,j-1])*C**2\n",
    "    return u_dir"
   ],
   "id": "8d6ca1d885612547",
   "outputs": [],
   "execution_count": 69
  },
  {
   "metadata": {
    "ExecuteTime": {
     "end_time": "2025-03-03T06:31:59.534281Z",
     "start_time": "2025-03-03T06:31:59.531132Z"
    }
   },
   "cell_type": "code",
   "source": [
    "u_dir = np.copy(u)\n",
    "u_dir[0:2,0] = 0\n",
    "u_dir[0:2,-1] = 0\n",
    "u_dir = dirichlet(u_dir,C)"
   ],
   "id": "38a4f4cc68ac6d64",
   "outputs": [],
   "execution_count": 70
  },
  {
   "metadata": {
    "ExecuteTime": {
     "end_time": "2025-03-03T06:31:59.699079Z",
     "start_time": "2025-03-03T06:31:59.584741Z"
    }
   },
   "cell_type": "code",
   "source": [
    "@njit(\"f8[:,:](f8[:,:],f8)\")\n",
    "def neumann(u_neu,C):\n",
    "    ver = len(u_neu[0])\n",
    "    hor = len(u_neu[:,0])\n",
    "    for n in range(2,hor):\n",
    "        for j in range(1,ver-1):\n",
    "            u_neu[n,j] =  2*u_neu[n-1,j]-u_neu[n-2,j] + (u_neu[n-1,j+1]-2*u_neu[n-1,j]+u_neu[n-1,j-1])*C**2\n",
    "        u_neu[n,0] = u_neu[n,1]\n",
    "        u_neu[n,-1] = u_neu[n,-2]\n",
    "    return u_neu"
   ],
   "id": "18b2cf95d33f20dd",
   "outputs": [],
   "execution_count": 71
  },
  {
   "metadata": {
    "ExecuteTime": {
     "end_time": "2025-03-03T06:31:59.707657Z",
     "start_time": "2025-03-03T06:31:59.704396Z"
    }
   },
   "cell_type": "code",
   "source": [
    "u_neu = np.copy(u)\n",
    "u_neu[0:2,0] = u_neu[0:2,1]\n",
    "u_neu[0:2,-1] = u_neu[0:2,-2]\n",
    "u_neu = neumann(u_neu,C)"
   ],
   "id": "9feded1480214579",
   "outputs": [],
   "execution_count": 72
  },
  {
   "metadata": {
    "ExecuteTime": {
     "end_time": "2025-03-03T06:31:59.758096Z",
     "start_time": "2025-03-03T06:31:59.754313Z"
    }
   },
   "cell_type": "code",
   "source": [
    "def periodic(u_per,C):\n",
    "    ver = len(u_per[0])\n",
    "    hor = len(u_per[:,0])\n",
    "    for n in range(2,hor):\n",
    "        for j in range(1,ver-1):\n",
    "            u_per[n,j] =  2*u_per[n-1,j]-u_per[n-2,j] + (u_per[n-1,j+1]-2*u_per[n-1,j]+u_per[n-1,j-1])*C**2\n",
    "        u_per[n,0] = u_per[n,-2]\n",
    "        u_per[n,-1] = u_per[n,1]\n",
    "    return u_per"
   ],
   "id": "b2407e5b38950ec6",
   "outputs": [],
   "execution_count": 73
  },
  {
   "metadata": {
    "ExecuteTime": {
     "end_time": "2025-03-03T06:31:59.948128Z",
     "start_time": "2025-03-03T06:31:59.804214Z"
    }
   },
   "cell_type": "code",
   "source": [
    "u_per = np.copy(u)\n",
    "u_per[0:2,0] = u_per[0:2,-2]\n",
    "u_per[0:2,-1] = u_per[0:2,1]\n",
    "u_per = periodic(u_per,C)"
   ],
   "id": "b8db7dbc5222ccf8",
   "outputs": [],
   "execution_count": 74
  },
  {
   "metadata": {
    "ExecuteTime": {
     "end_time": "2025-03-03T06:35:11.223978Z",
     "start_time": "2025-03-03T06:33:59.749979Z"
    }
   },
   "cell_type": "code",
   "source": [
    "fig, ax = plt.subplots()\n",
    "ax.set_xlim(0, 2)\n",
    "ax.set_ylim(-1.2, 1.2)\n",
    "ax.set_xlabel(\"x\")\n",
    "ax.set_ylabel(\"u(x,t)\")\n",
    "ax.set_title(\"Evolución de la Onda (Condiciones de Dirichlet)\")\n",
    "line, = ax.plot(x, u_dir[0, :], lw=2)  # Línea de la onda\n",
    "\n",
    "# Función de actualización de la animación\n",
    "def update(frame):\n",
    "    line.set_ydata(u_dir[frame, :])  # Actualizar la onda\n",
    "    return line,\n",
    "\n",
    "# Crear la animación\n",
    "ani = FuncAnimation(fig, update, frames=len(t)\n",
    "                    , interval=20, blit=True)\n",
    "\n",
    "# Mostrar la animación\n",
    "ani.save(\"ondaDirichlet.gif\", writer=\"pillow\")"
   ],
   "id": "3a101ee2c0cd1e31",
   "outputs": [
    {
     "data": {
      "text/plain": [
       "<Figure size 640x480 with 1 Axes>"
      ],
      "image/png": "[encoded data removed]"
     },
     "metadata": {},
     "output_type": "display_data"
    }
   ],
   "execution_count": 76
  },
  {
   "metadata": {
    "ExecuteTime": {
     "end_time": "2025-03-03T06:33:08.304117Z",
     "start_time": "2025-03-03T06:33:08.301711Z"
    }
   },
   "cell_type": "code",
   "source": "",
   "id": "4cefb77424a819bd",
   "outputs": [],
   "execution_count": null
  }
 ],
 "metadata": {
  "kernelspec": {
   "display_name": "Python 3",
   "language": "python",
   "name": "python3"
  },
  "language_info": {
   "codemirror_mode": {
    "name": "ipython",
    "version": 2
   },
   "file_extension": ".py",
   "mimetype": "text/x-python",
   "name": "python",
   "nbconvert_exporter": "python",
   "pygments_lexer": "ipython2",
   "version": "2.7.6"
  }
 },
 "nbformat": 4,
 "nbformat_minor": 5
}
