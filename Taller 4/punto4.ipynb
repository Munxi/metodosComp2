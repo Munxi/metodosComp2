{
 "cells": [
  {
   "cell_type": "code",
   "execution_count": 93,
   "id": "21bc73ea01ddf74c",
   "metadata": {
    "ExecuteTime": {
     "end_time": "2025-03-12T05:31:43.406722Z",
     "start_time": "2025-03-12T05:31:43.402594Z"
    }
   },
   "outputs": [],
   "source": [
    "import re\n",
    "import random\n",
    "import numpy as np\n",
    "import matplotlib.pyplot as plt "
   ]
  },
  {
   "cell_type": "code",
   "execution_count": 67,
   "id": "initial_id",
   "metadata": {
    "ExecuteTime": {
     "end_time": "2025-03-12T05:31:43.508839Z",
     "start_time": "2025-03-12T05:31:43.449638Z"
    },
    "collapsed": true
   },
   "outputs": [],
   "source": [
    "f = open('mobyDick.txt','r')\n",
    "s = f.read()\n",
    "s = re.sub(r\".*CHAPTER 1\\. Loomings\\.\\n\\n\",'',s,1,flags=re.DOTALL)\n",
    "s = re.sub(r\"\\n\\n\\nEpilogue.*\",'',s,1,flags=re.DOTALL)\n",
    "s = re.sub(r\"\\n\\nCHAPTER [0-9]+[^\\n]*\\n\",'',s)\n",
    "s = re.sub(r'[—-]', ' ', s)\n",
    "s = re.sub(r'\\[[^\\]]*\\]', '', s)\n",
    "s = re.sub(r' {2,}', ' ', s.lower())\n",
    "s = s.replace(\"\\r\\n\",\"\\n\").replace(\"\\n\\n\",\"#\").replace(\"\\n\",\" \").replace(\"#\",\"\\n\\n\")\n",
    "s = re.sub(r'[^a-z\\s\\.\\,\\;\\:\\!\\?\\n]', '', s)\n",
    "\n",
    "f.close()\n",
    "f = open('formateado.txt','w')\n",
    "f.write(s)\n",
    "f.close()"
   ]
  },
  {
   "cell_type": "code",
   "execution_count": 68,
   "id": "8b9dce57dd71f8c4",
   "metadata": {
    "ExecuteTime": {
     "end_time": "2025-03-12T05:31:44.135712Z",
     "start_time": "2025-03-12T05:31:44.131552Z"
    }
   },
   "outputs": [],
   "source": [
    "pagina = {\n",
    "    'a': 1, 'b': 2, 'c': 3, 'd': 4, 'e': 5, 'f': 6, 'g': 7, 'h': 8, 'i': 9, 'j': 10,\n",
    "    'k': 11, 'l': 12, 'm': 13, 'n': 14, 'o': 15, 'p': 16, 'q': 17, 'r': 18, 's': 19,\n",
    "    't': 20, 'u': 21, 'v': 22, 'w': 23, 'x': 24, 'y': 25, 'z': 26,\n",
    "    ' ': 27, '.': 28, ',': 29, ';': 30, ':': 31, '!': 32, '?': 33, '\\n': 34\n",
    "}"
   ]
  },
  {
   "cell_type": "code",
   "execution_count": 69,
   "id": "dfedca5730bd27e2",
   "metadata": {
    "ExecuteTime": {
     "end_time": "2025-03-12T05:31:44.751967Z",
     "start_time": "2025-03-12T05:31:44.746394Z"
    }
   },
   "outputs": [],
   "source": [
    "def entrenamiento(n,combinat,s,mapping):\n",
    "    for i in range(n,len(s)):\n",
    "        if s[i-n:i] in combinat:\n",
    "            combinat[s[i-n:i]][mapping[s[i]]-1] += 1\n",
    "        else:\n",
    "            combinat[s[i-n:i]] = np.zeros(34)\n",
    "            combinat[s[i-n:i]][mapping[s[i]]-1] += 1\n",
    "    for key in combinat:\n",
    "        combinat[key] = combinat[key]/combinat[key].sum()\n",
    "    return combinat"
   ]
  },
  {
   "cell_type": "code",
   "execution_count": 70,
   "id": "25c0a246862984f1",
   "metadata": {
    "ExecuteTime": {
     "end_time": "2025-03-12T05:31:59.037389Z",
     "start_time": "2025-03-12T05:31:46.020461Z"
    }
   },
   "outputs": [],
   "source": [
    "varios = []\n",
    "for n in range(8):\n",
    "    varios.append(entrenamiento(n+1,{},s,pagina))"
   ]
  },
  {
   "cell_type": "code",
   "execution_count": null,
   "id": "7cb412205585f343",
   "metadata": {
    "ExecuteTime": {
     "end_time": "2025-03-12T05:31:59.048221Z",
     "start_time": "2025-03-12T05:31:59.042418Z"
    }
   },
   "outputs": [],
   "source": [
    "def generacion(combinat,m,n,mapping):\n",
    "    candidates = []\n",
    "    select = list(mapping.keys())\n",
    "    iterable = list(combinat.keys())\n",
    "    for i in range(len(iterable)):\n",
    "        if(iterable[i][0] == '\\n'):\n",
    "            candidates.append(iterable[i])\n",
    "    text = random.choice(candidates)\n",
    "    while len(re.findall(r'[a-z]+', text))<m:\n",
    "        seed = text[len(text)-n:]\n",
    "        text += np.random.choice(select,p=combinat[seed])\n",
    "    return text"
   ]
  },
  {
   "cell_type": "code",
   "execution_count": 72,
   "id": "48591d445af21927",
   "metadata": {
    "ExecuteTime": {
     "end_time": "2025-03-12T05:32:00.344188Z",
     "start_time": "2025-03-12T05:31:59.641877Z"
    }
   },
   "outputs": [],
   "source": [
    "with open('englishWords.txt', 'r') as file:\n",
    "    res = dict( [line.strip(),i] for i,line in enumerate(file))"
   ]
  },
  {
   "cell_type": "code",
   "execution_count": 110,
   "id": "7dfd7035",
   "metadata": {},
   "outputs": [
    {
     "data": {
      "image/png": "[encoded data removed]",
      "text/plain": [
       "<Figure size 640x480 with 1 Axes>"
      ]
     },
     "metadata": {},
     "output_type": "display_data"
    }
   ],
   "source": [
    "percent = np.zeros(8)\n",
    "for e in range(8):\n",
    "    chatGPT = generacion(varios[e],1500,e+1,pagina)\n",
    "    words = re.findall(r'[a-z]+', chatGPT)\n",
    "    f = open('gen_text_n' + str(e+1)+'.txt','w')\n",
    "    f.write(chatGPT)\n",
    "    f.close()\n",
    "    count = 0 \n",
    "    for word in words: \n",
    "        if word in res: \n",
    "            percent[e] +=1\n",
    "    percent[e] /= len(words)\n",
    "    percent[e]*=100\n",
    "plt.bar(np.arange(1,9),percent)\n",
    "plt.title(\"Porcentaje de palabras existentes por letras del n-grama\")\n",
    "plt.ylabel(\"Porcentaje de palabras existentes\")\n",
    "plt.xlabel(\"Número de letras del n-grama \")\n",
    "plt.savefig(\"4.pdf\")"
   ]
  },
  {
   "cell_type": "code",
   "execution_count": null,
   "id": "f06ecca8",
   "metadata": {},
   "outputs": [
    {
     "data": {
      "text/plain": [
       "array([1, 2, 3, 4, 5, 6, 7, 8])"
      ]
     },
     "execution_count": 106,
     "metadata": {},
     "output_type": "execute_result"
    }
   ],
   "source": []
  }
 ],
 "metadata": {
  "kernelspec": {
   "display_name": "Python 3",
   "language": "python",
   "name": "python3"
  },
  "language_info": {
   "codemirror_mode": {
    "name": "ipython",
    "version": 2
   },
   "file_extension": ".py",
   "mimetype": "text/x-python",
   "name": "python",
   "nbconvert_exporter": "python",
   "pygments_lexer": "ipython2",
   "version": "2.7.6"
  }
 },
 "nbformat": 4,
 "nbformat_minor": 5
}
